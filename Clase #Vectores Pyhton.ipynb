{
 "cells": [
  {
   "cell_type": "code",
   "execution_count": 3,
   "id": "6d2daef4",
   "metadata": {},
   "outputs": [
    {
     "name": "stdout",
     "output_type": "stream",
     "text": [
      "Collecting numpy\n",
      "  Downloading numpy-2.2.5-cp313-cp313-win_amd64.whl.metadata (60 kB)\n",
      "Downloading numpy-2.2.5-cp313-cp313-win_amd64.whl (12.6 MB)\n",
      "   ---------------------------------------- 0.0/12.6 MB ? eta -:--:--\n",
      "   ---------------------------------------- 0.0/12.6 MB ? eta -:--:--\n",
      "    --------------------------------------- 0.3/12.6 MB ? eta -:--:--\n",
      "    --------------------------------------- 0.3/12.6 MB ? eta -:--:--\n",
      "   - -------------------------------------- 0.5/12.6 MB 670.6 kB/s eta 0:00:19\n",
      "   - -------------------------------------- 0.5/12.6 MB 670.6 kB/s eta 0:00:19\n",
      "   -- ------------------------------------- 0.8/12.6 MB 759.0 kB/s eta 0:00:16\n",
      "   --- ------------------------------------ 1.0/12.6 MB 765.4 kB/s eta 0:00:16\n",
      "   --- ------------------------------------ 1.0/12.6 MB 765.4 kB/s eta 0:00:16\n",
      "   --- ------------------------------------ 1.0/12.6 MB 765.4 kB/s eta 0:00:16\n",
      "   --- ------------------------------------ 1.0/12.6 MB 765.4 kB/s eta 0:00:16\n",
      "   ---- ----------------------------------- 1.3/12.6 MB 549.6 kB/s eta 0:00:21\n",
      "   ---- ----------------------------------- 1.3/12.6 MB 549.6 kB/s eta 0:00:21\n",
      "   ---- ----------------------------------- 1.3/12.6 MB 549.6 kB/s eta 0:00:21\n",
      "   ---- ----------------------------------- 1.3/12.6 MB 549.6 kB/s eta 0:00:21\n",
      "   ---- ----------------------------------- 1.3/12.6 MB 549.6 kB/s eta 0:00:21\n",
      "   ---- ----------------------------------- 1.3/12.6 MB 549.6 kB/s eta 0:00:21\n",
      "   ---- ----------------------------------- 1.6/12.6 MB 423.2 kB/s eta 0:00:27\n",
      "   ---- ----------------------------------- 1.6/12.6 MB 423.2 kB/s eta 0:00:27\n",
      "   ---- ----------------------------------- 1.6/12.6 MB 423.2 kB/s eta 0:00:27\n",
      "   ----- ---------------------------------- 1.8/12.6 MB 415.6 kB/s eta 0:00:26\n",
      "   ----- ---------------------------------- 1.8/12.6 MB 415.6 kB/s eta 0:00:26\n",
      "   ----- ---------------------------------- 1.8/12.6 MB 415.6 kB/s eta 0:00:26\n",
      "   ----- ---------------------------------- 1.8/12.6 MB 415.6 kB/s eta 0:00:26\n",
      "   ----- ---------------------------------- 1.8/12.6 MB 415.6 kB/s eta 0:00:26\n",
      "   ----- ---------------------------------- 1.8/12.6 MB 415.6 kB/s eta 0:00:26\n",
      "   ------ --------------------------------- 2.1/12.6 MB 362.8 kB/s eta 0:00:30\n",
      "   ------ --------------------------------- 2.1/12.6 MB 362.8 kB/s eta 0:00:30\n",
      "   ------ --------------------------------- 2.1/12.6 MB 362.8 kB/s eta 0:00:30\n",
      "   ------- -------------------------------- 2.4/12.6 MB 370.2 kB/s eta 0:00:28\n",
      "   ------- -------------------------------- 2.4/12.6 MB 370.2 kB/s eta 0:00:28\n",
      "   ------- -------------------------------- 2.4/12.6 MB 370.2 kB/s eta 0:00:28\n",
      "   -------- ------------------------------- 2.6/12.6 MB 372.1 kB/s eta 0:00:27\n",
      "   -------- ------------------------------- 2.6/12.6 MB 372.1 kB/s eta 0:00:27\n",
      "   --------- ------------------------------ 2.9/12.6 MB 388.6 kB/s eta 0:00:26\n",
      "   --------- ------------------------------ 2.9/12.6 MB 388.6 kB/s eta 0:00:26\n",
      "   --------- ------------------------------ 2.9/12.6 MB 388.6 kB/s eta 0:00:26\n",
      "   --------- ------------------------------ 2.9/12.6 MB 388.6 kB/s eta 0:00:26\n",
      "   --------- ------------------------------ 2.9/12.6 MB 388.6 kB/s eta 0:00:26\n",
      "   --------- ------------------------------ 2.9/12.6 MB 388.6 kB/s eta 0:00:26\n",
      "   --------- ------------------------------ 3.1/12.6 MB 362.2 kB/s eta 0:00:27\n",
      "   --------- ------------------------------ 3.1/12.6 MB 362.2 kB/s eta 0:00:27\n",
      "   --------- ------------------------------ 3.1/12.6 MB 362.2 kB/s eta 0:00:27\n",
      "   ---------- ----------------------------- 3.4/12.6 MB 365.9 kB/s eta 0:00:26\n",
      "   ---------- ----------------------------- 3.4/12.6 MB 365.9 kB/s eta 0:00:26\n",
      "   ----------- ---------------------------- 3.7/12.6 MB 379.3 kB/s eta 0:00:24\n",
      "   ------------ --------------------------- 3.9/12.6 MB 394.5 kB/s eta 0:00:23\n",
      "   ------------ --------------------------- 3.9/12.6 MB 394.5 kB/s eta 0:00:23\n",
      "   ------------ --------------------------- 3.9/12.6 MB 394.5 kB/s eta 0:00:23\n",
      "   ------------- -------------------------- 4.2/12.6 MB 401.6 kB/s eta 0:00:22\n",
      "   ------------- -------------------------- 4.2/12.6 MB 401.6 kB/s eta 0:00:22\n",
      "   ------------- -------------------------- 4.2/12.6 MB 401.6 kB/s eta 0:00:22\n",
      "   ------------- -------------------------- 4.2/12.6 MB 401.6 kB/s eta 0:00:22\n",
      "   -------------- ------------------------- 4.5/12.6 MB 394.1 kB/s eta 0:00:21\n",
      "   -------------- ------------------------- 4.5/12.6 MB 394.1 kB/s eta 0:00:21\n",
      "   -------------- ------------------------- 4.5/12.6 MB 394.1 kB/s eta 0:00:21\n",
      "   -------------- ------------------------- 4.7/12.6 MB 392.2 kB/s eta 0:00:21\n",
      "   -------------- ------------------------- 4.7/12.6 MB 392.2 kB/s eta 0:00:21\n",
      "   --------------- ------------------------ 5.0/12.6 MB 402.2 kB/s eta 0:00:20\n",
      "   --------------- ------------------------ 5.0/12.6 MB 402.2 kB/s eta 0:00:20\n",
      "   --------------- ------------------------ 5.0/12.6 MB 402.2 kB/s eta 0:00:20\n",
      "   --------------- ------------------------ 5.0/12.6 MB 402.2 kB/s eta 0:00:20\n",
      "   --------------- ------------------------ 5.0/12.6 MB 402.2 kB/s eta 0:00:20\n",
      "   --------------- ------------------------ 5.0/12.6 MB 402.2 kB/s eta 0:00:20\n",
      "   ---------------- ----------------------- 5.2/12.6 MB 383.5 kB/s eta 0:00:20\n",
      "   ---------------- ----------------------- 5.2/12.6 MB 383.5 kB/s eta 0:00:20\n",
      "   ---------------- ----------------------- 5.2/12.6 MB 383.5 kB/s eta 0:00:20\n",
      "   ---------------- ----------------------- 5.2/12.6 MB 383.5 kB/s eta 0:00:20\n",
      "   ---------------- ----------------------- 5.2/12.6 MB 383.5 kB/s eta 0:00:20\n",
      "   ---------------- ----------------------- 5.2/12.6 MB 383.5 kB/s eta 0:00:20\n",
      "   ---------------- ----------------------- 5.2/12.6 MB 383.5 kB/s eta 0:00:20\n",
      "   ---------------- ----------------------- 5.2/12.6 MB 383.5 kB/s eta 0:00:20\n",
      "   ----------------- ---------------------- 5.5/12.6 MB 355.4 kB/s eta 0:00:21\n",
      "   ----------------- ---------------------- 5.5/12.6 MB 355.4 kB/s eta 0:00:21\n",
      "   ------------------ --------------------- 5.8/12.6 MB 361.6 kB/s eta 0:00:20\n",
      "   ------------------ --------------------- 5.8/12.6 MB 361.6 kB/s eta 0:00:20\n",
      "   ------------------- -------------------- 6.0/12.6 MB 370.7 kB/s eta 0:00:18\n",
      "   ------------------- -------------------- 6.0/12.6 MB 370.7 kB/s eta 0:00:18\n",
      "   ------------------- -------------------- 6.3/12.6 MB 378.4 kB/s eta 0:00:17\n",
      "   --------------------- ------------------ 6.8/12.6 MB 402.4 kB/s eta 0:00:15\n",
      "   ---------------------- ----------------- 7.1/12.6 MB 415.4 kB/s eta 0:00:14\n",
      "   ----------------------- ---------------- 7.3/12.6 MB 427.4 kB/s eta 0:00:13\n",
      "   ------------------------ --------------- 7.6/12.6 MB 435.5 kB/s eta 0:00:12\n",
      "   ------------------------ --------------- 7.6/12.6 MB 435.5 kB/s eta 0:00:12\n",
      "   ------------------------ --------------- 7.6/12.6 MB 435.5 kB/s eta 0:00:12\n",
      "   ------------------------ --------------- 7.9/12.6 MB 435.2 kB/s eta 0:00:11\n",
      "   ------------------------ --------------- 7.9/12.6 MB 435.2 kB/s eta 0:00:11\n",
      "   ------------------------- -------------- 8.1/12.6 MB 439.1 kB/s eta 0:00:11\n",
      "   -------------------------- ------------- 8.4/12.6 MB 448.0 kB/s eta 0:00:10\n",
      "   ---------------------------- ----------- 8.9/12.6 MB 469.9 kB/s eta 0:00:08\n",
      "   ----------------------------- ---------- 9.2/12.6 MB 478.9 kB/s eta 0:00:08\n",
      "   ----------------------------- ---------- 9.4/12.6 MB 489.9 kB/s eta 0:00:07\n",
      "   ----------------------------- ---------- 9.4/12.6 MB 489.9 kB/s eta 0:00:07\n",
      "   ------------------------------ --------- 9.7/12.6 MB 495.2 kB/s eta 0:00:06\n",
      "   -------------------------------- ------- 10.2/12.6 MB 514.5 kB/s eta 0:00:05\n",
      "   --------------------------------- ------ 10.5/12.6 MB 521.9 kB/s eta 0:00:05\n",
      "   ---------------------------------- ----- 10.7/12.6 MB 530.7 kB/s eta 0:00:04\n",
      "   ---------------------------------- ----- 11.0/12.6 MB 538.1 kB/s eta 0:00:04\n",
      "   ---------------------------------- ----- 11.0/12.6 MB 538.1 kB/s eta 0:00:04\n",
      "   ----------------------------------- ---- 11.3/12.6 MB 538.8 kB/s eta 0:00:03\n",
      "   ------------------------------------ --- 11.5/12.6 MB 547.8 kB/s eta 0:00:03\n",
      "   ------------------------------------- -- 11.8/12.6 MB 556.1 kB/s eta 0:00:02\n",
      "   -------------------------------------- - 12.1/12.6 MB 562.7 kB/s eta 0:00:02\n",
      "   ---------------------------------------- 12.6/12.6 MB 581.3 kB/s eta 0:00:00\n",
      "Installing collected packages: numpy\n",
      "Successfully installed numpy-2.2.5\n",
      "Note: you may need to restart the kernel to use updated packages.\n"
     ]
    }
   ],
   "source": [
    "pip install numpy"
   ]
  },
  {
   "cell_type": "code",
   "execution_count": 8,
   "id": "44747db9",
   "metadata": {},
   "outputs": [],
   "source": [
    "\n",
    "import numpy as np \n",
    "words = np.array([\"nombre\", \"pronombre\", \"verbo\", \"adverbio\", \"adjetivo\", \"conjunción\", \"Preposición\"])"
   ]
  },
  {
   "cell_type": "code",
   "execution_count": 9,
   "id": "0f3f7291",
   "metadata": {},
   "outputs": [
    {
     "data": {
      "text/plain": [
       "np.str_('nombre')"
      ]
     },
     "execution_count": 9,
     "metadata": {},
     "output_type": "execute_result"
    }
   ],
   "source": [
    "words[0] #En python la posicion del vector empieza desde 0 en adelante."
   ]
  },
  {
   "cell_type": "code",
   "execution_count": null,
   "id": "23c15004",
   "metadata": {},
   "outputs": [
    {
     "data": {
      "text/plain": [
       "array(['nombre', 'pronombre', 'verbo', 'adverbio', 'adjetivo',\n",
       "       'conjunción', 'Preposición'], dtype='<U11')"
      ]
     },
     "execution_count": 8,
     "metadata": {},
     "output_type": "execute_result"
    }
   ],
   "source": [
    "words[0:7] # selecciona los elementos del índice 0 hasta el 6, En Python, cuando dices [inicio:fin], el fin no se incluye."
   ]
  },
  {
   "cell_type": "code",
   "execution_count": 10,
   "id": "9abd626e",
   "metadata": {},
   "outputs": [
    {
     "data": {
      "text/plain": [
       "array(['nombre', 'pronombre', 'verbo', 'adverbio', 'adjetivo',\n",
       "       'conjunción', 'Preposición'], dtype='<U11')"
      ]
     },
     "execution_count": 10,
     "metadata": {},
     "output_type": "execute_result"
    }
   ],
   "source": [
    "words[0:] #Significa \"selecciona desde el índice 0 hasta el final\"."
   ]
  },
  {
   "cell_type": "code",
   "execution_count": 11,
   "id": "d9612568",
   "metadata": {},
   "outputs": [
    {
     "data": {
      "text/plain": [
       "array(['Preposición', 'conjunción', 'adjetivo', 'adverbio', 'verbo',\n",
       "       'pronombre', 'nombre'], dtype='<U11')"
      ]
     },
     "execution_count": 11,
     "metadata": {},
     "output_type": "execute_result"
    }
   ],
   "source": [
    "#En Python, cuando haces slicing (inicio:fin:paso):\n",
    "#inicio ➔ desde dónde empezar (vacío = desde el final).\n",
    "#fin ➔ hasta dónde llegar (vacío = hasta el principio).\n",
    "#paso ➔ cuánto te mueves. Aquí es -1, paso negativo, así que invierte el array\n",
    "\n",
    "words[::-1]\n"
   ]
  },
  {
   "cell_type": "code",
   "execution_count": 44,
   "id": "0c8ed20a",
   "metadata": {},
   "outputs": [
    {
     "data": {
      "text/plain": [
       "array([1. , 3. , 5.3])"
      ]
     },
     "execution_count": 44,
     "metadata": {},
     "output_type": "execute_result"
    }
   ],
   "source": [
    "numbers = np.array([1,3,5.3])\n",
    "numbers"
   ]
  },
  {
   "cell_type": "code",
   "execution_count": 47,
   "id": "a74f2c1a",
   "metadata": {},
   "outputs": [
    {
     "data": {
      "text/plain": [
       "array([5.3, 3. , 1. ])"
      ]
     },
     "execution_count": 47,
     "metadata": {},
     "output_type": "execute_result"
    }
   ],
   "source": [
    "numbers [::-1]"
   ]
  },
  {
   "cell_type": "code",
   "execution_count": 49,
   "id": "2e75d689",
   "metadata": {},
   "outputs": [
    {
     "data": {
      "text/plain": [
       "np.float64(9.3)"
      ]
     },
     "execution_count": 49,
     "metadata": {},
     "output_type": "execute_result"
    }
   ],
   "source": [
    "numbers.sum()"
   ]
  },
  {
   "cell_type": "code",
   "execution_count": 52,
   "id": "521b6ba0",
   "metadata": {},
   "outputs": [
    {
     "data": {
      "text/plain": [
       "3"
      ]
     },
     "execution_count": 52,
     "metadata": {},
     "output_type": "execute_result"
    }
   ],
   "source": [
    "numbers.size #Tamaño del vector "
   ]
  },
  {
   "cell_type": "code",
   "execution_count": null,
   "id": "57134277",
   "metadata": {},
   "outputs": [
    {
     "data": {
      "text/plain": [
       "np.float64(3.1)"
      ]
     },
     "execution_count": 59,
     "metadata": {},
     "output_type": "execute_result"
    }
   ],
   "source": [
    "numbers.mean() #Promedio del vector"
   ]
  },
  {
   "cell_type": "code",
   "execution_count": null,
   "id": "0837e399",
   "metadata": {},
   "outputs": [
    {
     "data": {
      "text/plain": [
       "3"
      ]
     },
     "execution_count": 69,
     "metadata": {},
     "output_type": "execute_result"
    }
   ],
   "source": [
    "np.count_nonzero(numbers) #Cuneta cuántos elementos del array no son cero."
   ]
  },
  {
   "cell_type": "code",
   "execution_count": 71,
   "id": "e4766c83",
   "metadata": {},
   "outputs": [
    {
     "data": {
      "text/plain": [
       "array([1., 3., 5.])"
      ]
     },
     "execution_count": 71,
     "metadata": {},
     "output_type": "execute_result"
    }
   ],
   "source": [
    "np.round(numbers) #Redondea al numero entero más cercano "
   ]
  },
  {
   "cell_type": "code",
   "execution_count": null,
   "id": "33e89911",
   "metadata": {},
   "outputs": [
    {
     "data": {
      "text/plain": [
       "array([1., 3., 5.])"
      ]
     },
     "execution_count": 80,
     "metadata": {},
     "output_type": "execute_result"
    }
   ],
   "source": [
    "numbers[2] = np.round(numbers[2]) #Redondea un numero especifico del vector y lo guarda\n",
    "numbers"
   ]
  },
  {
   "cell_type": "code",
   "execution_count": 99,
   "id": "98a08bcf",
   "metadata": {},
   "outputs": [
    {
     "data": {
      "text/plain": [
       "array([1., 3., 5.])"
      ]
     },
     "execution_count": 99,
     "metadata": {},
     "output_type": "execute_result"
    }
   ],
   "source": [
    "numbers.sort() #Ordena el vector de forma ascendente\n",
    "numbers"
   ]
  }
 ],
 "metadata": {
  "kernelspec": {
   "display_name": "Python 3",
   "language": "python",
   "name": "python3"
  },
  "language_info": {
   "codemirror_mode": {
    "name": "ipython",
    "version": 3
   },
   "file_extension": ".py",
   "mimetype": "text/x-python",
   "name": "python",
   "nbconvert_exporter": "python",
   "pygments_lexer": "ipython3",
   "version": "3.13.3"
  }
 },
 "nbformat": 4,
 "nbformat_minor": 5
}
